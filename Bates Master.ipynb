{
 "metadata": {
  "name": ""
 },
 "nbformat": 3,
 "nbformat_minor": 0,
 "worksheets": [
  {
   "cells": [
    {
     "cell_type": "code",
     "collapsed": false,
     "input": [
      "from PyPDF2 import PdfFileWriter, PdfFileReader\n",
      "from reportlab.pdfgen import canvas\n",
      "from reportlab.lib.units import inch\n",
      "import StringIO"
     ],
     "language": "python",
     "metadata": {},
     "outputs": []
    },
    {
     "cell_type": "code",
     "collapsed": false,
     "input": [
      "file_name = \"Tax Returns - Merged.pdf\"\n",
      "orig_pdf = PdfFileReader(open(file_name, \"rb\"))\n",
      "#print \"document1.pdf has %d pages.\" % input1.getNumPages()\n",
      "num_pages = orig_pdf.getNumPages()\n",
      "page_size = orig_pdf.getPage(0).mediaBox"
     ],
     "language": "python",
     "metadata": {},
     "outputs": []
    },
    {
     "cell_type": "code",
     "collapsed": false,
     "input": [
      "### inputs ####\n",
      "l_font_size = 10\n",
      "r_font_size = 10\n",
      "c_font_size = 10\n",
      "\n",
      "l_starting_num = \"\"        #Need to -1 \n",
      "r_starting_num = \"000147\"  #Need to -1 \n",
      "c_starting_num = \"\"        #Need to -1\n",
      "\n",
      "l_prefix = \"CONFIDENTIAL\"\n",
      "r_prefix = \"plaintiff\"\n",
      "c_prefix = \"\"\n",
      "\n",
      "#creating dictionary from inputs\n",
      "input_config = {}\n",
      "if len(l_starting_num + l_prefix) > 0:\n",
      "    input_config[\"left\"]  = {\"mode\":\"left\"   ,\"font_size\":l_font_size,\"starting_num\":l_starting_num,\"prefix\":l_prefix}\n",
      "if len(r_starting_num + r_prefix) > 0:             \n",
      "    input_config[\"right\"]  = {\"mode\":\"right\" ,\"font_size\":r_font_size,\"starting_num\":r_starting_num,\"prefix\":r_prefix}\n",
      "if len(c_starting_num + c_prefix) > 0:             \n",
      "    input_config[\"center\"] = {\"mode\":\"center\",\"font_size\":c_font_size,\"starting_num\":c_starting_num,\"prefix\":c_prefix}\n",
      "\n",
      "### and figure few things out based on inputs ###\n",
      "#For 8x10 horizontal page\n",
      "#height = float(page_size[2]/72)*inch\n",
      "#width = float(page_size[3]/72)*inch\n",
      "\n",
      "#For 8x10 vertical page\n",
      "height = float(page_size[3]/72)*inch\n",
      "width = float(page_size[2]/72)*inch\n",
      "\n",
      "margin_x = 0.5*inch\n",
      "margin_y = 0.3*inch #this changes the bottom margin\n",
      "\n",
      "config = {\n",
      "          \"right\" :{\"x\":width-margin_x,\"y\":margin_y, \"func\": lambda x,y,text : canv.drawRightString(x,y,text)},\n",
      "          \"left\"  :{\"x\":margin_x      ,\"y\":margin_y, \"func\": lambda x,y,text : canv.drawString(x,y,text)},\n",
      "          \"center\":{\"x\":width/2       ,\"y\":margin_y, \"func\": lambda x,y,text : canv.drawCentredString(x,y,text)}\n",
      "          }"
     ],
     "language": "python",
     "metadata": {},
     "outputs": []
    },
    {
     "cell_type": "code",
     "collapsed": false,
     "input": [
      "# the temp file should be same size as the original document\n",
      "packet = StringIO.StringIO()\n",
      "canv = canvas.Canvas(packet,pagesize=(width,height))\n",
      "\n",
      "for i in range(0,num_pages):\n",
      "    for j in input_config:\n",
      "        \n",
      "        #figure out few things about the starting number\n",
      "        num_length = len(str(input_config[j][\"starting_num\"]))\n",
      "        page_number_offset = int(input_config[j][\"starting_num\"] if input_config[j][\"starting_num\"] != \"\" else -1)\n",
      "\n",
      "        canv.setFont(\"Times-Roman\", input_config[j][\"font_size\"]) #need to reset font for each page\n",
      "            \n",
      "        bates = str(canv.getPageNumber()+page_number_offset).zfill(num_length) if page_number_offset > 0 else \"\"\n",
      "        \n",
      "        text = input_config[j][\"prefix\"] + bates\n",
      "        mode = input_config[j][\"mode\"]\n",
      "        #print canv.getPageNumber(),text, width, config[mode][\"x\"]\n",
      "    \n",
      "        config[mode][\"func\"](config[mode][\"x\"],config[mode][\"y\"],text)\n",
      "    canv.showPage() #move to the next page\n",
      "canv.save()"
     ],
     "language": "python",
     "metadata": {},
     "outputs": []
    },
    {
     "cell_type": "code",
     "collapsed": false,
     "input": [
      "# Time to merge\n",
      "#move to the beginning of the StringIO buffer\n",
      "packet.seek(0)\n",
      "new_pdf = PdfFileReader(packet)\n",
      "# read your existing PDF\n",
      "output = PdfFileWriter()\n",
      "# add the \"watermark\" (which is the new pdf) on the existing page\n",
      "for i in range(0,num_pages):\n",
      "    page = orig_pdf.getPage(i)\n",
      "    page.mergePage(new_pdf.getPage(i))\n",
      "    output.addPage(page)\n",
      "# finally, write \"output\" to a real file\n",
      "outputStream = file(file_name.strip(\".pdf\").strip(\".PDF\")+\" bates.pdf\", \"wb\")\n",
      "output.write(outputStream)\n",
      "outputStream.close()"
     ],
     "language": "python",
     "metadata": {},
     "outputs": []
    },
    {
     "cell_type": "markdown",
     "metadata": {},
     "source": [
      "Using PyPDF2 to get number of pages and to get page size and to merge the water mark pdf with the original document.\n",
      "\n",
      "Lengths are given as points: 1 pt. = 1/72 in.\n",
      "\n",
      "Using ReportLap to create the watermark.\n",
      "\n",
      "The showPage method finishes the current page. All additional drawing will be done on another page.\n",
      "NOTE Warning! All state changes (font changes, color settings, geometry transforms, etcetera) are FORGOTTEN\n",
      "when you advance to a new page in pdfgen. Any state settings you wish to preserve must be set up again\n",
      "before the program proceeds with drawing!\n",
      "\n",
      "Very often it is important to save the current font, graphics transform, line styles and other graphics state in\n",
      "order to restore them later. The saveState method marks the current graphics state for later restoration by\n",
      "a matching restoreState. Note that the save and restore method invokation must match -- a restore call\n",
      "restores the state to the most recently saved state which hasn't been restored yet. You cannot save the state on\n",
      "one page and restore it on the next, however -- no state is preserved between pages."
     ]
    }
   ],
   "metadata": {}
  }
 ]
}